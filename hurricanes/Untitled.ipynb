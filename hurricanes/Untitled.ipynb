{
 "cells": [
  {
   "cell_type": "markdown",
   "id": "a3f220b0",
   "metadata": {},
   "source": [
    "# Hurricane Analysis\n",
    "\n",
    "## Overview\n",
    "This project is slightly different than others you have encountered thus far on Codecademy. Instead of a step-by-step tutorial, this project contains a series of open-ended requirements which describe the project you’ll be building. There are many possible ways to correctly fulfill all of these requirements, and you should expect to use the internet, Codecademy, and other resources when you encounter a problem that you cannot easily solve.\n",
    "\n",
    "## Project Goals\n",
    "You will work to write several functions that organize and manipulate data about Category 5 Hurricanes, the strongest hurricanes as rated by their wind speed. Each one of these functions will use a number of parameters, conditionals, lists, dictionaries, string manipulation, and return statements.\n",
    "\n",
    "## Setup Instructions\n",
    "If you choose to do this project on your computer instead of Codecademy, you can download what you’ll need by clicking the “Download” button below. If you need help setting up your computer, be sure to check out our setup guide.\n"
   ]
  },
  {
   "cell_type": "markdown",
   "id": "be607124",
   "metadata": {},
   "source": [
    "### Prerequisites\n",
    "\n",
    "1. In order to complete this project, you should have completed the Loops and Dictionaries sections of the Learn Python 3 Course. This content is also covered in the Data Scientist Career Path."
   ]
  },
  {
   "cell_type": "code",
   "execution_count": 44,
   "metadata": {},
   "outputs": [],
   "source": [
    "# names of hurricanes\n",
    "names = ['Cuba I', 'San Felipe II Okeechobee', 'Bahamas', 'Cuba II', 'CubaBrownsville', 'Tampico', 'Labor Day', 'New England', 'Carol', 'Janet', 'Carla', 'Hattie', 'Beulah', 'Camille', 'Edith', 'Anita', 'David', 'Allen', 'Gilbert', 'Hugo', 'Andrew', 'Mitch', 'Isabel', 'Ivan', 'Emily', 'Katrina', 'Rita', 'Wilma', 'Dean', 'Felix', 'Matthew', 'Irma', 'Maria', 'Michael']\n",
    "\n",
    "# months of hurricanes\n",
    "months = ['October', 'September', 'September', 'November', 'August', 'September', 'September', 'September', 'September', 'September', 'September', 'October', 'September', 'August', 'September', 'September', 'August', 'August', 'September', 'September', 'August', 'October', 'September', 'September', 'July', 'August', 'September', 'October', 'August', 'September', 'October', 'September', 'September', 'October']\n",
    "\n",
    "# years of hurricanes\n",
    "years = [1924, 1928, 1932, 1932, 1933, 1933, 1935, 1938, 1953, 1955, 1961, 1961, 1967, 1969, 1971, 1977, 1979, 1980, 1988, 1989, 1992, 1998, 2003, 2004, 2005, 2005, 2005, 2005, 2007, 2007, 2016, 2017, 2017, 2018]\n",
    "\n",
    "# maximum sustained winds (mph) of hurricanes\n",
    "max_sustained_winds = [165, 160, 160, 175, 160, 160, 185, 160, 160, 175, 175, 160, 160, 175, 160, 175, 175, 190, 185, 160, 175, 180, 165, 165, 160, 175, 180, 185, 175, 175, 165, 180, 175, 160]\n",
    "\n",
    "# areas affected by each hurricane\n",
    "areas_affected = [['Central America', 'Mexico', 'Cuba', 'Florida', 'The Bahamas'], ['Lesser Antilles', 'The Bahamas', 'United States East Coast', 'Atlantic Canada'], ['The Bahamas', 'Northeastern United States'], ['Lesser Antilles', 'Jamaica', 'Cayman Islands', 'Cuba', 'The Bahamas', 'Bermuda'], ['The Bahamas', 'Cuba', 'Florida', 'Texas', 'Tamaulipas'], ['Jamaica', 'Yucatn Peninsula'], ['The Bahamas', 'Florida', 'Georgia', 'The Carolinas', 'Virginia'], ['Southeastern United States', 'Northeastern United States', 'Southwestern Quebec'], ['Bermuda', 'New England', 'Atlantic Canada'], ['Lesser Antilles', 'Central America'], ['Texas', 'Louisiana', 'Midwestern United States'], ['Central America'], ['The Caribbean', 'Mexico', 'Texas'], ['Cuba', 'United States Gulf Coast'], ['The Caribbean', 'Central America', 'Mexico', 'United States Gulf Coast'], ['Mexico'], ['The Caribbean', 'United States East coast'], ['The Caribbean', 'Yucatn Peninsula', 'Mexico', 'South Texas'], ['Jamaica', 'Venezuela', 'Central America', 'Hispaniola', 'Mexico'], ['The Caribbean', 'United States East Coast'], ['The Bahamas', 'Florida', 'United States Gulf Coast'], ['Central America', 'Yucatn Peninsula', 'South Florida'], ['Greater Antilles', 'Bahamas', 'Eastern United States', 'Ontario'], ['The Caribbean', 'Venezuela', 'United States Gulf Coast'], ['Windward Islands', 'Jamaica', 'Mexico', 'Texas'], ['Bahamas', 'United States Gulf Coast'], ['Cuba', 'United States Gulf Coast'], ['Greater Antilles', 'Central America', 'Florida'], ['The Caribbean', 'Central America'], ['Nicaragua', 'Honduras'], ['Antilles', 'Venezuela', 'Colombia', 'United States East Coast', 'Atlantic Canada'], ['Cape Verde', 'The Caribbean', 'British Virgin Islands', 'U.S. Virgin Islands', 'Cuba', 'Florida'], ['Lesser Antilles', 'Virgin Islands', 'Puerto Rico', 'Dominican Republic', 'Turks and Caicos Islands'], ['Central America', 'United States Gulf Coast (especially Florida Panhandle)']]\n",
    "\n",
    "# damages (USD($)) of hurricanes\n",
    "damages = ['Damages not recorded', '100M', 'Damages not recorded', '40M', '27.9M', '5M', 'Damages not recorded', '306M', '2M', '65.8M', '326M', '60.3M', '208M', '1.42B', '25.4M', 'Damages not recorded', '1.54B', '1.24B', '7.1B', '10B', '26.5B', '6.2B', '5.37B', '23.3B', '1.01B', '125B', '12B', '29.4B', '1.76B', '720M', '15.1B', '64.8B', '91.6B', '25.1B']\n",
    "\n",
    "# deaths for each hurricane\n",
    "deaths = [90,4000,16,3103,179,184,408,682,5,1023,43,319,688,259,37,11,2068,269,318,107,65,19325,51,124,17,1836,125,87,45,133,603,138,3057,74]\n"
   ]
  },
  {
   "cell_type": "markdown",
   "id": "9e675631",
   "metadata": {},
   "source": [
    "### Project Requirements\n",
    "\n",
    "2. Hurricanes, also known as cyclones or typhoons, are one of the most powerful forces of nature on Earth. Due to climate change caused by human activity, the number and intensity of hurricanes has risen, calling for better preparation by the many communities that are devastated by them. As a concerned environmentalist, you want to look at data about the most powerful hurricanes that have occurred.\n",
    "\n",
    "  Begin by looking at the damages list. The list contains strings representing the total cost in USD($) caused by 34 category 5 hurricanes (wind speeds ≥ 157 mph (252 km/h )) in the Atlantic region. For some of the hurricanes, damage data was not recorded (\"Damages not recorded\"), while the rest are written in the format \"Prefix-B/M\", where B stands for billions (1000000000) and M stands for millions (1000000).\n",
    "\n",
    "  Write a function that returns a new list of updated damages where the recorded data is converted to float values and the missing data is retained as \"Damages not recorded\".\n",
    "\n",
    "  Test your function with the data stored in damages."
   ]
  },
  {
   "cell_type": "code",
   "execution_count": 45,
   "metadata": {},
   "outputs": [],
   "source": [
    "# Write your update damages function here:\n",
    "\n",
    "def update_damages(lst):\n",
    "    lst_new = []\n",
    "    for i in lst:\n",
    "        if 'M' in i:\n",
    "            i_new = float(i.strip('M')) * 10 ** 6 \n",
    "        elif 'B' in i:\n",
    "            i_new = float(i.strip('B')) * 10 ** 9\n",
    "        else:\n",
    "            i_new = \"Damages not recorded\"\n",
    "        lst_new.append(i_new)\n",
    "    return lst_new\n",
    "\n",
    "damages = update_damages(damages)\n",
    "        "
   ]
  },
  {
   "cell_type": "markdown",
   "id": "c41ce40f",
   "metadata": {},
   "source": [
    "3. Additional data collected on the 34 strongest Atlantic hurricanes are provided in a series of lists. The data includes:\n",
    "\n",
    "    * `names`: names of the hurricanes\n",
    "    * `months`: months in which the hurricanes occurred\n",
    "    * `years`: years in which the hurricanes occurred\n",
    "    * `max_sustained_winds`: maximum sustained winds (miles per hour) of the hurricanes\n",
    "    * `areas_affected`: list of different areas affected by each of the hurricanes\n",
    "    * `deaths`: total number of deaths caused by each of the hurricanes\n",
    "   \n",
    "   The data is organized such that the data at each index, from `0` to `33`, corresponds to the same hurricane.\n",
    "\n",
    "   For example, `names[0]` yields the “Cuba I” hurricane, which ouccred in `months[0]` (October) `years[0]` (1924).\n",
    "\n",
    "   Write a function that constructs a dictionary made out of the lists, where the keys of the dictionary are the names of the hurricanes, and the values are dictionaries themselves containing a key for each piece of data (`Name`, `Month`, `Year`, `Max Sustained Wind`, `Areas Affected`, `Damage`, `Death`) about the hurricane.\n",
    "\n",
    "   Thus the key `\"Cuba I\"` would have the value: `{'Name': 'Cuba I', 'Month': 'October', 'Year': 1924, 'Max Sustained Wind': 165, 'Areas Affected': ['Central America', 'Mexico', 'Cuba', 'Florida', 'The Bahamas'], 'Damage': 'Damages not recorded', 'Deaths': 90}`.\n",
    "\n",
    "   Test your function on the lists of data provided."
   ]
  },
  {
   "cell_type": "code",
   "execution_count": 46,
   "metadata": {},
   "outputs": [],
   "source": [
    "# write your construct hurricane dictionary function here:\n",
    "\n",
    "info = [names, months, years, max_sustained_winds, areas_affected, damages, deaths]\n",
    "info_names = [\"Name\", \"Month\", \"Year\", \"Max Sustained Wind\", \"Areas Affected\", \"Damage\", \"Deaths\"]\n",
    "def make_dict(info_lst=info, lst_names=info_names):\n",
    "    dict_return = {}\n",
    "    for i in range(len(info_lst[0])):\n",
    "        dict_new = {info_lst[0][i]: {key: value[i] for key, value in zip(info_names, info)}}\n",
    "        dict_return.update(dict_new)\n",
    "    return dict_return\n",
    "\n",
    "hurricane_dict = make_dict()  \n",
    "\n"
   ]
  },
  {
   "source": [
    "4. In addition to organizing the hurricanes in a dictionary with names as the key, you want to be able to organize the hurricanes by year.\n",
    "\n",
    "  Write a function that converts the current dictionary of hurricanes to a new dictionary, where the keys are years and the values are lists containing a dictionary for each hurricane that occurred in that year.\n",
    "\n",
    "  For example, the key `1932` would yield the value: `[{'Name': 'Bahamas', 'Month': 'September', 'Year': 1932, 'Max Sustained Wind': 160, 'Areas Affected': ['The Bahamas', 'Northeastern United States'], 'Damage': 'Damages not recorded', 'Deaths': 16}, {'Name': 'Cuba II', 'Month': 'November', 'Year': 1932, 'Max Sustained Wind': 175, 'Areas Affected': ['Lesser Antilles', 'Jamaica', 'Cayman Islands', 'Cuba', 'The Bahamas', 'Bermuda'], 'Damage': 40000000.0, 'Deaths': 3103}]`.\n",
    "\n",
    "  Test your function on your hurricane dictionary."
   ],
   "cell_type": "markdown",
   "metadata": {}
  },
  {
   "cell_type": "code",
   "execution_count": 47,
   "metadata": {},
   "outputs": [],
   "source": [
    "# write your construct hurricane by year dictionary function here:\n",
    "def by_year(dct=hurricane_dict, key_lst=years):\n",
    "    new_dict = {}\n",
    "    for key in key_lst:\n",
    "        value = [dct[name] for name in dct.keys() if key == dct[name][\"Year\"]]\n",
    "        new_dict.update({key: value})\n",
    "    return new_dict\n",
    "\n",
    "hurricane_years = by_year()\n"
   ]
  },
  {
   "source": [
    "5. You believe that knowing how often each of the areas of the Atlantic are affected by these strong hurricanes is important for making preparations for future hurricanes.\n",
    "\n",
    "  Write a function that counts how often each area is listed as an affected area of a hurricane. Store and return the results in a dictionary where the keys are the affected areas and the values are counts of how many times the areas were affected.\n",
    "\n",
    "  Test your function on your hurricane dictionary."
   ],
   "cell_type": "markdown",
   "metadata": {}
  },
  {
   "cell_type": "code",
   "execution_count": 48,
   "metadata": {},
   "outputs": [],
   "source": [
    "# write your count affected areas function here:\n",
    "areas_lst = []\n",
    "for areas in areas_affected:\n",
    "    for area in areas:\n",
    "        if not area in areas_lst:\n",
    "            areas_lst.append(area)\n",
    "\n",
    "def by_count(dct=hurricane_dict, count_lst=areas_lst):\n",
    "    new_dict = {}\n",
    "    for key in count_lst:\n",
    "        count = 0\n",
    "        for hurricane in dct.keys():\n",
    "            if key in dct[hurricane][\"Areas Affected\"]:\n",
    "                count += 1\n",
    "        new_dict.update({key: count})\n",
    "    return new_dict\n",
    "\n",
    "area_count = by_count()"
   ]
  },
  {
   "source": [
    "6. Write a function that finds the area affected by the most hurricanes, and how often it was hit.\n",
    "\n",
    "  Test your function on your affected area dictionary."
   ],
   "cell_type": "markdown",
   "metadata": {}
  },
  {
   "cell_type": "code",
   "execution_count": 49,
   "metadata": {},
   "outputs": [
    {
     "output_type": "stream",
     "name": "stdout",
     "text": [
      "Central America\n"
     ]
    }
   ],
   "source": [
    "# write your find most affected area function here:\n",
    "\n",
    "def find_max(dct=area_count):\n",
    "    max_key = 0\n",
    "    max_val = 0\n",
    "    for key, value in dct.items():\n",
    "        if value > max_val:\n",
    "            max_key = key\n",
    "            max_val = value\n",
    "    return max_key\n",
    "\n",
    "highest_count = find_max()\n",
    "print(highest_count)"
   ]
  },
  {
   "source": [
    "7. Write a function that finds the hurricane that caused the greatest number of deaths, and how many deaths it caused.\n",
    "\n",
    "  Test your function on your hurricane dictionary."
   ],
   "cell_type": "markdown",
   "metadata": {}
  },
  {
   "cell_type": "code",
   "execution_count": 50,
   "metadata": {},
   "outputs": [
    {
     "output_type": "stream",
     "name": "stdout",
     "text": [
      "{'Mitch': 19325}\n"
     ]
    }
   ],
   "source": [
    "# write your greatest number of deaths function here:\n",
    "\n",
    "def find_max2(dict_key, dct=area_count):\n",
    "    max_key = 0\n",
    "    max_val = 0\n",
    "    for key, value in dct.items():\n",
    "        if int(value[dict_key]) > max_val:\n",
    "            max_key = key\n",
    "            max_val = value[dict_key]\n",
    "    return {max_key: max_val}\n",
    "\n",
    "max_deaths= find_max2(\"Deaths\", dct=hurricane_dict)\n",
    "print(max_deaths)"
   ]
  },
  {
   "source": [
    "8. Just as hurricanes are rated by their windspeed, you want to try rating hurricanes based on other metrics.\n",
    "\n",
    "  Write a function that rates hurricanes on a mortality scale according to the following ratings, where the key is the rating and the value is the upper bound of deaths for that rating.\n",
    "    ```python\n",
    "  mortality_scale = {0: 0,\n",
    "                    1: 100,\n",
    "                    2: 500,\n",
    "                    3: 1000,\n",
    "                    4: 10000}\n",
    "    ```\n",
    "  For example, a hurricane with a 1 mortality rating would have resulted in greater than 0 but less than or equal to 100 deaths. A hurricane with a 5 mortality rating would have resulted in greater than 10000 deaths.\n",
    "\n",
    "  Store the hurricanes in a new dictionary where the keys are mortality ratings and the values are lists containing a dictionary for each hurricane that falls into that mortality rating.\n",
    "\n",
    "  Test your function on your hurricane dictionary."
   ],
   "cell_type": "markdown",
   "metadata": {}
  },
  {
   "cell_type": "code",
   "execution_count": 51,
   "metadata": {},
   "outputs": [],
   "source": [
    "# write your catgeorize by mortality function here:\n",
    "mortality_scale = {0: 0,\n",
    "                1: 100,\n",
    "                2: 500,\n",
    "                3: 1000,\n",
    "                4: 10000}\n",
    "def mortality(dct):\n",
    "    result = {0: [], 1:[], 2: [], 3: [], 4: [], 5: []}\n",
    "    for key in dct.keys():\n",
    "        deaths = dct[key]['Deaths']\n",
    "        for m_key, value in mortality_scale.items():\n",
    "            if deaths > 10000:\n",
    "                rating = 5\n",
    "            elif deaths < value:\n",
    "                rating = m_key\n",
    "                break\n",
    "        result[rating].append(dct[key])\n",
    "    return result\n",
    "mortality_dict = mortality(hurricane_dict)"
   ]
  },
  {
   "source": [
    "9. Write a function that finds the hurricane that caused the greatest damage, and how costly it was.\n",
    "\n",
    "  Test your function on your hurricane dictionary."
   ],
   "cell_type": "markdown",
   "metadata": {}
  },
  {
   "cell_type": "code",
   "execution_count": 52,
   "metadata": {},
   "outputs": [
    {
     "output_type": "execute_result",
     "data": {
      "text/plain": [
       "{'Name': 'Katrina',\n",
       " 'Month': 'August',\n",
       " 'Year': 2005,\n",
       " 'Max Sustained Wind': 175,\n",
       " 'Areas Affected': ['Bahamas', 'United States Gulf Coast'],\n",
       " 'Damage': 125000000000.0,\n",
       " 'Deaths': 1836}"
      ]
     },
     "metadata": {},
     "execution_count": 52
    }
   ],
   "source": [
    "hurricane_dict[\"Katrina\"]"
   ]
  },
  {
   "cell_type": "code",
   "execution_count": 53,
   "metadata": {},
   "outputs": [
    {
     "output_type": "stream",
     "name": "stdout",
     "text": [
      "{'Katrina': 125000000000.0}\n"
     ]
    }
   ],
   "source": [
    "# write your greatest damage function here:\n",
    "def find_max2(dict_key, dct=area_count):\n",
    "    max_key = 0\n",
    "    max_val = 0\n",
    "    for key, value in dct.items():\n",
    "        if value[dict_key] == \"Damages not recorded\":\n",
    "            continue\n",
    "        elif value[dict_key] > max_val:\n",
    "            max_key = key\n",
    "            max_val = value[dict_key]\n",
    "    return {max_key: max_val}\n",
    "\n",
    "max_damage = find_max2(\"Damage\", hurricane_dict)\n",
    "print(max_damage)"
   ]
  },
  {
   "source": [
    "10. Lastly, you want to rate hurricanes according to how much damage they cause.\n",
    "\n",
    "  Write a function that rates hurricanes on a damage scale according to the following ratings, where the key is the rating and the value is the upper bound of damage for that rating.\n",
    "    ```python\n",
    "    damage_scale = {0: 0,\n",
    "                    1: 100000000,\n",
    "                    2: 1000000000,\n",
    "                    3: 10000000000,\n",
    "                    4: 50000000000}\n",
    "    ```\n",
    "  For example, a hurricane with a 1 damage rating would have resulted in damages greater than 0 USD but less than or equal to 100000000 USD. A hurricane with a 5 damage rating would have resulted in damages greater than 50000000000 USD (talk about a lot of money).\n",
    "\n",
    "  Store the hurricanes in a new dictionary where the keys are damage ratings and the values are lists containing a dictionary for each hurricane that falls into that damage rating.\n",
    "\n",
    "  Test your function on your hurricane dictionary."
   ],
   "cell_type": "markdown",
   "metadata": {}
  },
  {
   "cell_type": "code",
   "execution_count": 56,
   "metadata": {},
   "outputs": [
    {
     "output_type": "stream",
     "name": "stdout",
     "text": [
      "{0: [{'Cuba I': 0}, {'Bahamas': 0}, {'Labor Day': 0}, {'Anita': 0}], 1: [{'San Felipe II Okeechobee': 100000000.0}, {'Cuba II': 40000000.0}, {'CubaBrownsville': 27900000.0}, {'Tampico': 5000000.0}, {'Carol': 2000000.0}, {'Janet': 65800000.0}, {'Hattie': 60300000.0}, {'Edith': 25400000.0}], 2: [{'New England': 306000000.0}, {'Carla': 326000000.0}, {'Beulah': 208000000.0}, {'Felix': 720000000.0}], 3: [{'Camille': 1420000000.0}, {'David': 1540000000.0}, {'Allen': 1240000000.0}, {'Gilbert': 7100000000.0}, {'Hugo': 10000000000.0}, {'Mitch': 6200000000.0}, {'Isabel': 5370000000.0}, {'Emily': 1010000000.0}, {'Dean': 1760000000.0}], 4: [{'Andrew': 26500000000.0}, {'Ivan': 23300000000.0}, {'Rita': 12000000000.0}, {'Wilma': 29400000000.0}, {'Matthew': 15100000000.0}, {'Michael': 25100000000.0}], 5: [{'Katrina': 125000000000.0}, {'Irma': 64800000000.0}, {'Maria': 91600000000.0}]}\n"
     ]
    }
   ],
   "source": [
    "# write your catgeorize by damage function here:\n",
    "damage_scale = {0: 0,\n",
    "                1: 100000000,\n",
    "                2: 1000000000,\n",
    "                3: 10000000000,\n",
    "                4: 50000000000}\n",
    "\n",
    "def damage(dct):\n",
    "    dct_copy = dct\n",
    "    for key in dct_copy.keys():\n",
    "        if dct_copy[key][\"Damage\"] == \"Damages not recorded\":\n",
    "            dct_copy[key][\"Damage\"] = 0\n",
    "    result = {0: [], 1:[], 2: [], 3: [], 4: [], 5: []}\n",
    "    for key in dct.keys():\n",
    "        damages = dct[key]['Damage']\n",
    "        for m_key, value in damage_scale.items():\n",
    "            if damages > 50000000000:\n",
    "                rating = 5\n",
    "            elif damages <= value:\n",
    "                rating = m_key\n",
    "                break\n",
    "        result[rating].append({key: dct[key][\"Damage\"]})\n",
    "    return result\n",
    "\n",
    "damages = damage(hurricane_dict)\n",
    "print(damages)"
   ]
  },
  {
   "cell_type": "code",
   "execution_count": null,
   "metadata": {},
   "outputs": [],
   "source": []
  }
 ],
 "metadata": {
  "kernelspec": {
   "name": "hurricane_venv",
   "display_name": "Python 3.7.7  ('hurricane_venv': venv)"
  },
  "language_info": {
   "codemirror_mode": {
    "name": "ipython",
    "version": 3
   },
   "file_extension": ".py",
   "mimetype": "text/x-python",
   "name": "python",
   "nbconvert_exporter": "python",
   "pygments_lexer": "ipython3",
   "version": "3.7.7"
  },
  "interpreter": {
   "hash": "4cd7ab41f5fca4b9b44701077e38c5ffd31fe66a6cab21e0214b68d958d0e462"
  }
 },
 "nbformat": 4,
 "nbformat_minor": 5
}